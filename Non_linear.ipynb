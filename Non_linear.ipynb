{
 "cells": [
  {
   "cell_type": "markdown",
   "metadata": {},
   "source": [
    "# Nonlinear Programming\n",
    "[Murwan Siddig](mailto:msiddig@clemson.edu)\n",
    "\n",
    "----------------------------------------------------------------\n",
    "\n",
    "\n",
    "JuMP has support for general smooth nonlinear (convex and nonconvex) optimization problems. JuMP is able to provide exact, sparse second-order derivatives to solvers. This information can improve solver accuracy and performance.\n",
    "* @NLobjective: Nonlinear objectives.\n",
    "* @NLconstraint: Nonlinear constraints.\n",
    "* Starting points may be provided by using the start keyword argument to @variable.\n",
    "------------------------------------------------------------------------------\n",
    "Consider the following unconstrained nonlinear optimization problem:**\n",
    "### Rosenbrock function\n",
    " \n",
    "\n",
    "\\begin{align*}\n",
    "\\min_{\\text{x, y}} \\ & (1-x)^2 + 100(y-x^2)^2 \\\\\n",
    "\\end{align*}"
   ]
  },
  {
   "cell_type": "code",
   "execution_count": 1,
   "metadata": {},
   "outputs": [],
   "source": [
    "#technical lines\n",
    "using JuMP;\n",
    "using Ipopt;"
   ]
  },
  {
   "cell_type": "code",
   "execution_count": 2,
   "metadata": {},
   "outputs": [
    {
     "name": "stdout",
     "output_type": "stream",
     "text": [
      "\n",
      "******************************************************************************\n",
      "This program contains Ipopt, a library for large-scale nonlinear optimization.\n",
      " Ipopt is released as open source code under the Eclipse Public License (EPL).\n",
      "         For more information visit http://projects.coin-or.org/Ipopt\n",
      "******************************************************************************\n",
      "\n",
      "=======================================\n",
      "=======================================\n",
      "Status = LOCALLY_SOLVED\n",
      "Optimal objective value = 1.3288608467480825e-28\n",
      "Optimal x value = 0.9999999999999899\n",
      "Optimal y value = 0.9999999999999792\n"
     ]
    }
   ],
   "source": [
    "RB = Model(optimizer_with_attributes(Ipopt.Optimizer, \"print_level\" => 0));\n",
    "@variable(RB, x, start = 0.0);\n",
    "@variable(RB, y, start = 0.0);\n",
    "@NLobjective(RB, Min, (1 - x)^2 + 100 * (y - x^2)^2);\n",
    "optimize!(RB)\n",
    "status = termination_status(RB);\n",
    "obj_value = objective_value(RB);\n",
    "x_value = value(x);\n",
    "y_value = value(y);\n",
    "println(\"=======================================\")\n",
    "println(\"=======================================\")\n",
    "println(\"Status = \", status)\n",
    "println(\"Optimal objective value = \", obj_value)\n",
    "println(\"Optimal x value = \", x_value)\n",
    "println(\"Optimal y value = \", y_value)"
   ]
  },
  {
   "cell_type": "markdown",
   "metadata": {},
   "source": [
    "Consider the following constrained nonlinear optimization problem: \n",
    "\n",
    "\\begin{align*}\n",
    "\\min_{\\text{x} \\in \\mathbb{R}^4} \\ & x_1x_4(x_1+x_2+x_3)+x_3 \\\\\n",
    "& x_1x_2x_3x_4 \\geq 25 \\\\\n",
    "& \\sum_{i=1}^4 x_i^2 = 40 \\\\\n",
    "\\end{align*}"
   ]
  },
  {
   "cell_type": "code",
   "execution_count": 3,
   "metadata": {},
   "outputs": [
    {
     "name": "stdout",
     "output_type": "stream",
     "text": [
      "  2.741587 seconds (4.92 M allocations: 243.444 MiB, 6.51% gc time)\n",
      "=======================================\n",
      "=======================================\n",
      "Status = LOCALLY_SOLVED\n",
      "Optimal objective value = 17.014017277729653\n",
      "Optimal x value = [1.0, 4.743, 3.82115, 1.37941]\n"
     ]
    }
   ],
   "source": [
    "NL = Model(optimizer_with_attributes(Ipopt.Optimizer, \"print_level\" => 0));\n",
    "initval = [1,5,5,1]\n",
    "@variable(NL, 1 <= x[i=1:4] <= 5, start=initval[i])\n",
    "@NLobjective(NL, Min, x[1]*x[4]*(x[1]+x[2]+x[3]) + x[3])\n",
    "@NLconstraint(NL, x[1]*x[2]*x[3]*x[4] >= 25)\n",
    "@NLconstraint(NL, sum(x[i]^2 for i=1:4) == 40)\n",
    "@time begin\n",
    "    optimize!(NL)\n",
    "end\n",
    "status = termination_status(NL);\n",
    "obj_value = objective_value(NL);\n",
    "x_value = value.(x);\n",
    "println(\"=======================================\")\n",
    "println(\"=======================================\")\n",
    "println(\"Status = \", status)\n",
    "println(\"Optimal objective value = \", obj_value)\n",
    "println(\"Optimal x value = \", x_value)"
   ]
  },
  {
   "cell_type": "code",
   "execution_count": null,
   "metadata": {},
   "outputs": [],
   "source": []
  }
 ],
 "metadata": {
  "kernelspec": {
   "display_name": "Julia 1.0.5",
   "language": "julia",
   "name": "julia-1.0"
  },
  "language_info": {
   "file_extension": ".jl",
   "mimetype": "application/julia",
   "name": "julia",
   "version": "1.0.5"
  }
 },
 "nbformat": 4,
 "nbformat_minor": 4
}
